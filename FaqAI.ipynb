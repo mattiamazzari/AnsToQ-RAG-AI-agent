{
  "nbformat": 4,
  "nbformat_minor": 0,
  "metadata": {
    "colab": {
      "provenance": [],
      "gpuType": "T4"
    },
    "kernelspec": {
      "name": "python3",
      "display_name": "Python 3"
    },
    "language_info": {
      "name": "python"
    },
    "accelerator": "GPU"
  },
  "cells": [
    {
      "cell_type": "code",
      "source": [
        "!pip install -q -U protobuf qdrant-client sentence-transformers openai anthropic langchain langchain-community"
      ],
      "metadata": {
        "id": "LN0d3z3tuKgn"
      },
      "execution_count": 1,
      "outputs": []
    },
    {
      "cell_type": "code",
      "execution_count": 26,
      "metadata": {
        "id": "bLpZRY3ftKFH"
      },
      "outputs": [],
      "source": [
        "import json\n",
        "from typing import List, Dict\n",
        "import qdrant_client\n",
        "from qdrant_client.models import VectorParams, Distance\n",
        "from sentence_transformers import SentenceTransformer\n",
        "import openai\n",
        "import anthropic\n",
        "from qdrant_client import QdrantClient\n",
        "from qdrant_client.http import models\n",
        "from openai import OpenAI\n",
        "import os"
      ]
    },
    {
      "cell_type": "markdown",
      "source": [
        "## Scenario Overview\n",
        "\n",
        "Imagine an e-commerce website that has an extensive FAQ page. This FAQ page is designed to help users by answering common questions about products, shipping, returns, payment methods, and more. However, users often prefer to get their answers directly through an interactive chat system rather than manually searching through the FAQ page.\n",
        "\n",
        "## Objective\n",
        "The goal is to build a Retrieval-Augmented Generation (RAG) system that can directly interact with users and provide them with accurate and relevant answers by leveraging the existing FAQ data. This means that instead of having the user navigate through the FAQ page, the system will automatically retrieve the most relevant information from the FAQ dataset and present it in a conversational format.\n",
        "\n",
        "## How It Works\n",
        "\n",
        "- **FAQ Dataset**: We have a dataset consisting of JSON objects, each containing a frequently asked question (FAQ) and its corresponding answer. This dataset is sourced from Kaggle and is specifically designed for e-commerce-related queries: [Ecommerce-FAQ-Chatbot-Dataset](https://www.kaggle.com/datasets/saadmakhdoom/ecommerce-faq-chatbot-dataset)\n",
        "\n",
        "- **User Interaction**: A user asks a question through the chat interface. Instead of redirecting the user to the FAQ page, the system will process the question in real-time.\n",
        "\n",
        "- **Retrieval Mechanism**: The system will search through the FAQ dataset to find the most relevant question-answer pair(s) that match the user's query.\n",
        "\n",
        "- **Answer Generation**: Once the relevant information is retrieved, the system will generate a response that is directly presented to the user in a conversational manner. The response may be the exact answer from the dataset or a synthesized answer that is tailored to the user's query."
      ],
      "metadata": {
        "id": "A05sGyQkLjvz"
      }
    },
    {
      "cell_type": "markdown",
      "source": [
        "## Define the classes"
      ],
      "metadata": {
        "id": "jxUVp3GpK_4i"
      }
    },
    {
      "cell_type": "code",
      "source": [
        "# Load the dataset (JSON file)\n",
        "def load_faq_data(file_path: str) -> Dict[str, str]:\n",
        "    with open(file_path, 'r') as file:\n",
        "        return json.load(file)['questions']\n",
        "\n",
        "# Embedding model (sentence transformer)\n",
        "class EmbeddingModel:\n",
        "    def __init__(self, model_name: str = 'all-MiniLM-L6-v2'):\n",
        "        self.model = SentenceTransformer(model_name)\n",
        "\n",
        "    def get_embeddings(self, sentences: List[str]) -> List[List[float]]:\n",
        "        return self.model.encode(sentences).tolist()\n",
        "\n",
        "# Qdrant vector store client\n",
        "class QdrantVectorStore:\n",
        "    def __init__(self, collection_name: str):\n",
        "        self.client = QdrantClient(\":memory:\")\n",
        "        self.collection_name = collection_name\n",
        "\n",
        "    def create_collection(self, vector_size: int):\n",
        "        if self.collection_name in self.client.get_collections().collections:\n",
        "            print(f\"Collection '{self.collection_name}' already exists. Skipping creation.\")\n",
        "        else:\n",
        "            self.client.create_collection(\n",
        "                collection_name=self.collection_name,\n",
        "                vectors_config=VectorParams(size=vector_size, distance=Distance.COSINE)\n",
        "            )\n",
        "\n",
        "    def add_documents(self, documents: List[Dict[str, str]], embeddings: List[List[float]]):\n",
        "        self.client.upsert(\n",
        "            collection_name=self.collection_name,\n",
        "            points=qdrant_client.models.Batch(\n",
        "                ids=[i for i in range(len(documents))],\n",
        "                vectors=embeddings,\n",
        "                payloads=documents\n",
        "            )\n",
        "        )\n",
        "\n",
        "    def search(self, query_vector: List[float], limit: int = 3) -> List[Dict]:\n",
        "        results = self.client.search(\n",
        "            collection_name=self.collection_name,\n",
        "            query_vector=query_vector,\n",
        "            limit=limit\n",
        "        )\n",
        "        return [hit.payload for hit in results]\n",
        "\n",
        "# Retriever\n",
        "class Retriever:\n",
        "    def __init__(self, embedding_model: EmbeddingModel, vector_store: QdrantVectorStore):\n",
        "        self.embedding_model = embedding_model\n",
        "        self.vector_store = vector_store\n",
        "\n",
        "    def retrieve(self, query: str, limit: int = 3) -> List[Dict]:\n",
        "        query_embedding = self.embedding_model.get_embeddings([query])[0]\n",
        "        return self.vector_store.search(query_embedding, limit)\n",
        "\n",
        "# LLM (GPT 3.5 turbo)\n",
        "class LLM:\n",
        "    def __init__(self, api_key: str):\n",
        "        openai.api_key = api_key\n",
        "\n",
        "    def generate_response(self, query: str, context: List[Dict]) -> str:\n",
        "        context_str = \"\\n\".join([f\"Q: {item['question']}\\nA: {item['answer']}\" for item in context])\n",
        "        prompt = f\"Given the following FAQ context:\\n\\n{context_str}\\n\\nAnswer the following question: {query}\\n\\nAnswer:\"\n",
        "\n",
        "        response = openai.chat.completions.create(\n",
        "            model=\"gpt-3.5-turbo\",\n",
        "            messages=[\n",
        "                {\"role\": \"system\", \"content\": \"You are a helpful assistant that answers questions based on the given FAQ context.\"},\n",
        "                {\"role\": \"user\", \"content\": prompt}\n",
        "            ]\n",
        "        )\n",
        "\n",
        "        return response.choices[0].message.content.strip()\n",
        "\n",
        "class RAGSystem:\n",
        "    def __init__(self, retriever: Retriever, llm: LLM):\n",
        "        self.retriever = retriever\n",
        "        self.llm = llm\n",
        "\n",
        "    def answer_question(self, query: str) -> str:\n",
        "        relevant_docs = self.retriever.retrieve(query)\n",
        "        return self.llm.generate_response(query, relevant_docs)"
      ],
      "metadata": {
        "id": "qjdFE60EtVAo"
      },
      "execution_count": 48,
      "outputs": []
    },
    {
      "cell_type": "markdown",
      "source": [
        "## Load the dataset (JSON file)"
      ],
      "metadata": {
        "id": "hcamSy4FK7BE"
      }
    },
    {
      "cell_type": "code",
      "source": [
        "faq_data = load_faq_data(\"Ecommerce_FAQ_Chatbot_dataset.json\")\n",
        "embedding_model = EmbeddingModel()"
      ],
      "metadata": {
        "id": "9eWQHtWJtfsU"
      },
      "execution_count": 30,
      "outputs": []
    },
    {
      "cell_type": "code",
      "source": [
        "print(faq_data)"
      ],
      "metadata": {
        "colab": {
          "base_uri": "https://localhost:8080/"
        },
        "id": "GHGIuiQp0HLa",
        "outputId": "987d4f06-d723-4231-8879-b72973544617"
      },
      "execution_count": 5,
      "outputs": [
        {
          "output_type": "stream",
          "name": "stdout",
          "text": [
            "[{'question': 'How can I create an account?', 'answer': \"To create an account, click on the 'Sign Up' button on the top right corner of our website and follow the instructions to complete the registration process.\"}, {'question': 'What payment methods do you accept?', 'answer': 'We accept major credit cards, debit cards, and PayPal as payment methods for online orders.'}, {'question': 'How can I track my order?', 'answer': \"You can track your order by logging into your account and navigating to the 'Order History' section. There, you will find the tracking information for your shipment.\"}, {'question': 'What is your return policy?', 'answer': 'Our return policy allows you to return products within 30 days of purchase for a full refund, provided they are in their original condition and packaging. Please refer to our Returns page for detailed instructions.'}, {'question': 'Can I cancel my order?', 'answer': 'You can cancel your order if it has not been shipped yet. Please contact our customer support team with your order details, and we will assist you with the cancellation process.'}, {'question': 'How long does shipping take?', 'answer': 'Shipping times vary depending on the destination and the shipping method chosen. Standard shipping usually takes 3-5 business days, while express shipping can take 1-2 business days.'}, {'question': 'Do you offer international shipping?', 'answer': 'Yes, we offer international shipping to select countries. The availability and shipping costs will be calculated during the checkout process based on your location.'}, {'question': 'What should I do if my package is lost or damaged?', 'answer': 'If your package is lost or damaged during transit, please contact our customer support team immediately. We will initiate an investigation and take the necessary steps to resolve the issue.'}, {'question': 'Can I change my shipping address after placing an order?', 'answer': 'If you need to change your shipping address, please contact our customer support team as soon as possible. We will do our best to update the address if the order has not been shipped yet.'}, {'question': 'How can I contact customer support?', 'answer': 'You can contact our customer support team by phone at [phone number] or by email at [email address]. Our team is available [working hours] to assist you with any inquiries or issues you may have.'}, {'question': 'Do you offer gift wrapping services?', 'answer': 'Yes, we offer gift wrapping services for an additional fee. During the checkout process, you can select the option to add gift wrapping to your order.'}, {'question': 'What is your price matching policy?', 'answer': \"We have a price matching policy where we will match the price of an identical product found on a competitor's website. Please contact our customer support team with the details of the product and the competitor's offer.\"}, {'question': 'Can I order by phone?', 'answer': 'Unfortunately, we do not accept orders over the phone. Please place your order through our website for a smooth and secure transaction.'}, {'question': 'Are my personal and payment details secure?', 'answer': 'Yes, we take the security of your personal and payment details seriously. We use industry-standard encryption and follow strict security protocols to ensure your information is protected.'}, {'question': 'What is your price adjustment policy?', 'answer': 'If a product you purchased goes on sale within 7 days of your purchase, we offer a one-time price adjustment. Please contact our customer support team with your order details to request the adjustment.'}, {'question': 'Do you have a loyalty program?', 'answer': 'Yes, we have a loyalty program where you can earn points for every purchase. These points can be redeemed for discounts on future orders. Please visit our website to learn more and join the program.'}, {'question': 'Can I order without creating an account?', 'answer': 'Yes, you can place an order as a guest without creating an account. However, creating an account offers benefits such as order tracking and easier future purchases.'}, {'question': 'Do you offer bulk or wholesale discounts?', 'answer': 'Yes, we offer bulk or wholesale discounts for certain products. Please contact our customer support team or visit our Wholesale page for more information and to discuss your specific requirements.'}, {'question': 'Can I change or cancel an item in my order?', 'answer': 'If you need to change or cancel an item in your order, please contact our customer support team as soon as possible. We will assist you with the necessary steps.'}, {'question': 'How can I leave a product review?', 'answer': \"To leave a product review, navigate to the product page on our website and click on the 'Write a Review' button. You can share your feedback and rating based on your experience with the product.\"}, {'question': 'Can I use multiple promo codes on a single order?', 'answer': 'Usually, only one promo code can be applied per order. During the checkout process, enter the promo code in the designated field to apply the discount to your order.'}, {'question': 'What should I do if I receive the wrong item?', 'answer': 'If you receive the wrong item in your order, please contact our customer support team immediately. We will arrange for the correct item to be shipped to you and assist with returning the wrong item.'}, {'question': 'Do you offer expedited shipping?', 'answer': 'Yes, we offer expedited shipping options for faster delivery. During the checkout process, you can select the desired expedited shipping method.'}, {'question': 'Can I order a product that is out of stock?', 'answer': 'If a product is currently out of stock, you will usually see an option to sign up for product notifications. This way, you will be alerted when the product becomes available again.'}, {'question': 'What is your email newsletter about?', 'answer': 'Our email newsletter provides updates on new product releases, exclusive offers, and helpful tips related to our products. You can subscribe to our newsletter on our website.'}, {'question': 'Can I return a product if I changed my mind?', 'answer': 'Yes, you can return a product if you changed your mind. Please ensure the product is in its original condition and packaging, and refer to our return policy for instructions.'}, {'question': 'Do you offer live chat support?', 'answer': 'Yes, we offer live chat support on our website during our business hours. Look for the chat icon in the bottom right corner to initiate a chat with our customer support team.'}, {'question': 'Can I order a product as a gift?', 'answer': \"Yes, you can order a product as a gift and have it shipped directly to the recipient. During the checkout process, you can enter the recipient's shipping address.\"}, {'question': 'What should I do if my discount code is not working?', 'answer': 'If your discount code is not working, please double-check the terms and conditions associated with the code. If the issue persists, contact our customer support team for assistance.'}, {'question': 'Can I return a product if it was a final sale item?', 'answer': 'Final sale items are usually non-returnable and non-refundable. Please review the product description or contact our customer support team to confirm the return eligibility for specific items.'}, {'question': 'Do you offer installation services for your products?', 'answer': 'Installation services are available for select products. Please check the product description or contact our customer support team for more information and to request installation services.'}, {'question': 'Can I order a product that is discontinued?', 'answer': 'Discontinued products are no longer available for purchase. We recommend exploring alternative products on our website.'}, {'question': 'Can I return a product without a receipt?', 'answer': 'A receipt or proof of purchase is usually required for returns. Please refer to our return policy or contact our customer support team for assistance.'}, {'question': 'Can I order a product for delivery to a different country?', 'answer': 'Yes, we offer international shipping to select countries. Please review the available shipping destinations during checkout or contact our customer support for assistance.'}, {'question': 'Can I add a gift message to my order?', 'answer': 'Yes, you can add a gift message during the checkout process. There is usually a section where you can enter your personalized message.'}, {'question': 'Can I request a product demonstration before making a purchase?', 'answer': 'We do not currently offer product demonstrations before purchase. However, you can find detailed product descriptions, specifications, and customer reviews on our website.'}, {'question': \"Can I order a product that is listed as 'coming soon'?\", 'answer': \"Products listed as 'coming soon' are not available for immediate purchase. Please sign up for notifications to be informed when the product becomes available.\"}, {'question': 'Can I request an invoice for my order?', 'answer': 'Yes, an invoice is usually included with your order. If you require a separate invoice, please contact our customer support team with your order details.'}, {'question': \"Can I order a product that is labeled as 'limited edition'?\", 'answer': \"'Limited edition' products may have restricted availability. We recommend placing an order as soon as possible to secure your item.\"}, {'question': 'Can I return a product if I no longer have the original packaging?', 'answer': 'While returning a product in its original packaging is preferred, you can still initiate a return without it. Contact our customer support team for guidance in such cases.'}, {'question': 'Can I request a product that is currently out of stock to be reserved for me?', 'answer': 'We do not offer reservations for out-of-stock products. However, you can sign up for product notifications to be alerted when it becomes available again.'}, {'question': \"Can I order a product that is listed as 'pre-order' with other in-stock items?\", 'answer': 'Yes, you can place an order with a mix of pre-order and in-stock items. However, please note that the entire order will be shipped once all items are available.'}, {'question': 'Can I return a product if it was damaged during shipping?', 'answer': 'If your product was damaged during shipping, please contact our customer support team immediately. We will guide you through the return and replacement process.'}, {'question': 'Can I request a product that is out of stock to be restocked?', 'answer': 'We strive to restock popular products whenever possible. Please sign up for product notifications to be informed when the item becomes available again.'}, {'question': \"Can I order a product if it is listed as 'backordered'?\", 'answer': \"Products listed as 'backordered' are temporarily out of stock but can still be ordered. Your order will be fulfilled once the product is restocked.\"}, {'question': 'Can I return a product if it was purchased during a sale or with a discount?', 'answer': 'Yes, you can return a product purchased during a sale or with a discount. The refund will be processed based on the amount paid after the discount.'}, {'question': 'Can I request a product repair or replacement if it is damaged?', 'answer': 'If you receive a damaged product, please contact our customer support team immediately. We will assist you with the necessary steps for repair or replacement.'}, {'question': \"Can I order a product if it is listed as 'out of stock' but available for pre-order?\", 'answer': 'If a product is available for pre-order, you can place an order to secure your item. The product will be shipped once it becomes available.'}, {'question': 'Can I return a product if it was purchased as a gift?', 'answer': 'Yes, you can return a product purchased as a gift. However, refunds will typically be issued to the original payment method used for the purchase.'}, {'question': \"Can I request a product if it is listed as 'discontinued'?\", 'answer': \"Unfortunately, if a product is listed as 'discontinued,' it is no longer available for purchase. We recommend exploring alternative products on our website.\"}, {'question': \"Can I order a product if it is listed as 'sold out'?\", 'answer': \"If a product is listed as 'sold out,' it is currently unavailable for purchase. Please check back later or sign up for notifications when it becomes available again.\"}, {'question': 'Can I return a product if it was purchased with a gift card?', 'answer': 'Yes, you can return a product purchased with a gift card. The refund will be issued in the form of store credit or a new gift card.'}, {'question': 'Can I request a product if it is not currently available in my size?', 'answer': 'If a product is not available in your size, it may be temporarily out of stock. Please check back later or sign up for size notifications.'}, {'question': \"Can I order a product if it is listed as 'coming soon' but available for pre-order?\", 'answer': \"If a product is listed as 'coming soon' and available for pre-order, you can place an order to secure your item before it becomes available.\"}, {'question': 'Can I return a product if it was purchased with a discount code?', 'answer': 'Yes, you can return a product purchased with a discount code. The refund will be processed based on the amount paid after the discount.'}, {'question': 'Can I request a custom order or personalized product?', 'answer': 'We do not currently offer custom orders or personalized products. Please explore the available products on our website.'}, {'question': \"Can I order a product if it is listed as 'temporarily unavailable'?\", 'answer': \"If a product is listed as 'temporarily unavailable,' it is out of stock but may be restocked in the future. Please check back later or sign up for notifications.\"}, {'question': 'Can I return a product if it was damaged due to improper use?', 'answer': 'Our return policy generally covers products that are defective or damaged upon arrival. Damage due to improper use may not be eligible for a return. Please contact our customer support team for assistance.'}, {'question': \"Can I request a product if it is listed as 'coming soon' but not available for pre-order?\", 'answer': \"If a product is listed as 'coming soon' but not available for pre-order, you will need to wait until it is officially released and becomes available for purchase.\"}, {'question': \"Can I order a product if it is listed as 'on hold'?\", 'answer': \"If a product is listed as 'on hold,' it is temporarily unavailable for purchase. Please check back later or sign up for notifications when it becomes available.\"}, {'question': 'Can I return a product if I no longer have the original receipt?', 'answer': 'While a receipt is preferred for returns, we may be able to assist you without it. Please contact our customer support team for further guidance.'}, {'question': \"Can I request a product that is listed as 'limited edition' to be restocked?\", 'answer': 'Once a limited edition product is sold out, it may not be restocked. Limited edition items are available for a limited time only, so we recommend purchasing them while they are available.'}, {'question': \"Can I order a product if it is listed as 'discontinued' but still visible on the website?\", 'answer': \"If a product is listed as 'discontinued' but still visible on the website, it may be an error. Please contact our customer support team for clarification.\"}, {'question': 'Can I return a product if it was a clearance or final sale item?', 'answer': 'Clearance or final sale items are typically non-returnable and non-refundable. Please review the product description or contact our customer support team for more information.'}, {'question': 'Can I request a product if it is not listed on your website?', 'answer': 'If a product is not listed on our website, it may not be available for purchase. We recommend exploring the available products or contacting our customer support team for further assistance.'}, {'question': \"Can I order a product if it is listed as 'out of stock' but available for backorder?\", 'answer': \"If a product is listed as 'out of stock' but available for backorder, you can place an order to secure your item. The product will be shipped once it becomes available.\"}, {'question': 'Can I return a product if it was purchased as part of a bundle or set?', 'answer': 'If a product was purchased as part of a bundle or set, the return policy may vary. Please refer to the specific terms and conditions or contact our customer support team for further guidance.'}, {'question': \"Can I request a product that is listed as 'out of stock' to be restocked?\", 'answer': 'We aim to restock popular products whenever possible. Please sign up for product notifications to be alerted when the item becomes available again.'}, {'question': \"Can I order a product if it is listed as 'coming soon' and available for pre-order?\", 'answer': \"If a product is listed as 'coming soon' and available for pre-order, you can place an order to secure your item before it becomes available.\"}, {'question': 'Can I return a product if it was damaged due to mishandling during shipping?', 'answer': 'If your product was damaged due to mishandling during shipping, please contact our customer support team immediately. We will assist you with the necessary steps for return and replacement.'}, {'question': \"Can I request a product that is listed as 'out of stock' to be reserved for me?\", 'answer': 'We do not offer reservations for out-of-stock products. However, you can sign up for product notifications to be alerted when the item becomes available again.'}, {'question': \"Can I order a product if it is listed as 'pre-order' but available for backorder?\", 'answer': \"If a product is listed as 'pre-order' and available for backorder, you can place an order to secure your item. The product will be shipped once it becomes available.\"}, {'question': 'Can I return a product if it was purchased with store credit?', 'answer': 'Yes, you can return a product purchased with store credit. The refund will be issued in the form of store credit, which you can use for future purchases.'}, {'question': 'Can I request a product that is currently out of stock to be restocked?', 'answer': 'We strive to restock popular products whenever possible. Please sign up for product notifications to be informed when the item becomes available again.'}, {'question': \"Can I order a product if it is listed as 'sold out' but available for pre-order?\", 'answer': \"If a product is listed as 'sold out' but available for pre-order, you can place an order to secure your item. The product will be shipped once it becomes available.\"}, {'question': 'Can I return a product if it was purchased with a promotional gift card?', 'answer': 'Yes, you can return a product purchased with a promotional gift card. The refund will be issued in the form of store credit or a new gift card.'}, {'question': 'Can I request a product if it is not currently available in my preferred color?', 'answer': 'If a product is not available in your preferred color, it may be temporarily out of stock. Please check back later or sign up for color notifications.'}, {'question': \"Can I order a product if it is listed as 'coming soon' and not available for pre-order?\", 'answer': \"If a product is listed as 'coming soon' but not available for pre-order, you will need to wait until it is officially released and becomes available for purchase.\"}, {'question': 'Can I return a product if it was purchased during a promotional event?', 'answer': 'Yes, you can return a product purchased during a promotional event. The refund will be processed based on the amount paid after any applicable discounts.'}]\n"
          ]
        }
      ]
    },
    {
      "cell_type": "markdown",
      "source": [
        "## Create a collection in the vector store"
      ],
      "metadata": {
        "id": "U79T8FRNLFCL"
      }
    },
    {
      "cell_type": "code",
      "source": [
        "collection_name = \"extractive-question-answering\"\n",
        "\n",
        "vector_store = QdrantVectorStore(collection_name)\n",
        "\n",
        "client = vector_store.client\n",
        "\n",
        "collections = client.get_collections()\n",
        "print(collections)\n",
        "\n",
        "# only create collection if it doesn't exist\n",
        "if collection_name not in [c.name for c in collections.collections]:\n",
        "    client.recreate_collection(\n",
        "        collection_name=collection_name,\n",
        "        vectors_config=models.VectorParams(\n",
        "            size=384,\n",
        "            distance=models.Distance.COSINE,\n",
        "        ),\n",
        "    )\n",
        "collections = client.get_collections()\n",
        "print(collections)"
      ],
      "metadata": {
        "colab": {
          "base_uri": "https://localhost:8080/"
        },
        "id": "shfTQCvqt9a8",
        "outputId": "e6a92c4e-e9ae-4e62-ad67-259dc99d391f"
      },
      "execution_count": 31,
      "outputs": [
        {
          "output_type": "stream",
          "name": "stdout",
          "text": [
            "collections=[]\n",
            "collections=[CollectionDescription(name='extractive-question-answering')]\n"
          ]
        },
        {
          "output_type": "stream",
          "name": "stderr",
          "text": [
            "<ipython-input-31-8d4a74110ac6>:12: DeprecationWarning: `recreate_collection` method is deprecated and will be removed in the future. Use `collection_exists` to check collection existence and `create_collection` instead.\n",
            "  client.recreate_collection(\n"
          ]
        }
      ]
    },
    {
      "cell_type": "markdown",
      "source": [
        "## Add the embeddings corresponding to the answers of the FAQ dataset\n",
        "\n",
        "The system primarily focuses on embedding the answers from the FAQ dataset, as they contain the most critical information. However, concatenating the questions and answers and then embedding them can be an alternative approach if the questions provide additional context. If there is no existing FAQ dataset, web scraping is employed to collect the necessary data from the website, after which the same embedding process is applied."
      ],
      "metadata": {
        "id": "R2bxDKLrLKzA"
      }
    },
    {
      "cell_type": "code",
      "source": [
        "embeddings = embedding_model.get_embeddings([item['answer'] for item in faq_data])\n",
        "\n",
        "vector_store.add_documents(faq_data, embeddings)\n",
        "\n",
        "retriever = Retriever(embedding_model, vector_store)"
      ],
      "metadata": {
        "id": "joWktiMlt7Ob"
      },
      "execution_count": 32,
      "outputs": []
    },
    {
      "cell_type": "markdown",
      "source": [
        "## Define the LLM and the RAG system"
      ],
      "metadata": {
        "id": "5AudMi4zLThY"
      }
    },
    {
      "cell_type": "code",
      "source": [
        "llm = LLM(api_key='OPENAI_API_KEY')\n",
        "rag_system = RAGSystem(retriever, llm)"
      ],
      "metadata": {
        "id": "VYtMfroAtxje"
      },
      "execution_count": 49,
      "outputs": []
    },
    {
      "cell_type": "markdown",
      "source": [
        "### Test"
      ],
      "metadata": {
        "id": "ERXwmR1SLYAM"
      }
    },
    {
      "cell_type": "code",
      "source": [
        "example_queries = [\n",
        "    \"What is your return policy?\",\n",
        "    \"How long does shipping usually take?\",\n",
        "    \"Do you offer international shipping?\",\n",
        "    \"Can I change or cancel my order after it's been placed?\",\n",
        "    \"What payment methods do you accept?\"\n",
        "]\n",
        "\n",
        "for query in example_queries:\n",
        "    answer = rag_system.answer_question(query)\n",
        "    print(f\"\\nQuestion: {query}\")\n",
        "    print(f\"Answer: {answer}\")\n",
        "    print(\"-\" * 50)"
      ],
      "metadata": {
        "colab": {
          "base_uri": "https://localhost:8080/"
        },
        "id": "AXxbv4Yytvbd",
        "outputId": "d2bc14c6-5a3c-411d-a59c-154e7059b824"
      },
      "execution_count": 51,
      "outputs": [
        {
          "output_type": "stream",
          "name": "stdout",
          "text": [
            "\n",
            "Question: What is your return policy?\n",
            "Answer: Our return policy allows you to return products within 30 days of purchase for a full refund, provided they are in their original condition and packaging. Please refer to our Returns page for detailed instructions.\n",
            "--------------------------------------------------\n",
            "\n",
            "Question: How long does shipping usually take?\n",
            "Answer: Shipping usually takes 3-5 business days for standard shipping and 1-2 business days for express shipping.\n",
            "--------------------------------------------------\n",
            "\n",
            "Question: Do you offer international shipping?\n",
            "Answer: Yes, we offer international shipping to select countries.\n",
            "--------------------------------------------------\n",
            "\n",
            "Question: Can I change or cancel my order after it's been placed?\n",
            "Answer: You can only change or cancel your order after it's been placed if it has not been shipped yet. Please contact our customer support team with your order details, and we will assist you with the necessary steps.\n",
            "--------------------------------------------------\n",
            "\n",
            "Question: What payment methods do you accept?\n",
            "Answer: We accept major credit cards, debit cards, and PayPal as payment methods for online orders.\n",
            "--------------------------------------------------\n"
          ]
        }
      ]
    }
  ]
}